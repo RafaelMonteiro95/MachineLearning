{
 "cells": [
  {
   "cell_type": "markdown",
   "metadata": {},
   "source": [
    "# Marcos Cesar Ribeiro de Camargo - 9278045\n",
    "## 22/08/2018 - Exercício 1"
   ]
  },
  {
   "cell_type": "markdown",
   "metadata": {},
   "source": [
    "## Bibliotecas utilizadas"
   ]
  },
  {
   "cell_type": "code",
   "execution_count": 21,
   "metadata": {},
   "outputs": [],
   "source": [
    "import numpy as np\n",
    "import matplotlib.pyplot as plt\n",
    "import random"
   ]
  },
  {
   "cell_type": "markdown",
   "metadata": {},
   "source": [
    "## Implementação do modelo de Perceptron Adaline"
   ]
  },
  {
   "cell_type": "code",
   "execution_count": 10,
   "metadata": {},
   "outputs": [],
   "source": [
    "class Perceptron(object):\n",
    "    weights = None\n",
    "    \n",
    "    def f(self, net, threshold=0.5):\n",
    "        if(net >= threshold):\n",
    "            return 1\n",
    "        else:\n",
    "            return -1\n",
    "\n",
    "    def predict(self, x):\n",
    "        X = np.concatenate((x, [1]))\n",
    "        net = np.sum(np.multiply(X, self.weights))\n",
    "        return(self.f(net))\n",
    "    \n",
    "    def train(self, X, Y, eta=0.05, threshold=10e-3, max_iter=2000):\n",
    "        n, w = X.shape\n",
    "        # Gerando pesos w e theta aleatóriamente \n",
    "        weights = (np.random.rand(w+1) - 0.5)\n",
    "        \n",
    "        t_error = 2*threshold\n",
    "        counter = 0\n",
    "        while(t_error > threshold and counter <= max_iter):\n",
    "            t_error = 0\n",
    "            # Para toda linha do conjuto de treinamento\n",
    "            for i in range(n):\n",
    "\n",
    "                # Concatenando X[i] com 1 para o theta\n",
    "                Xi = np.concatenate((X[i], [1]))\n",
    "\n",
    "                # Calculando net\n",
    "                net = np.sum(np.multiply(Xi, weights))\n",
    "                y_hat = self.f(net)\n",
    "\n",
    "                # Calculando erro\n",
    "                error = Y[i] - y_hat\n",
    "                t_error = t_error + np.power(error, 2)\n",
    "\n",
    "                # Treinando\n",
    "                # Calculando o gradiente\n",
    "                dE2_dweights = -2*error*Xi\n",
    "                weights = weights - eta*dE2_dweights\n",
    "            t_error = t_error/n\n",
    "            counter = counter + 1\n",
    "        self.weights = weights"
   ]
  },
  {
   "cell_type": "markdown",
   "metadata": {},
   "source": [
    "## Geração aleatória dos dados de entrada\n",
    "Foram definidos os vetores A e A_I que contém, respectivamente, o A e o A inverso perfeitos. Então foram sorteadas posições aleatórias desses vetores e invertidas"
   ]
  },
  {
   "cell_type": "code",
   "execution_count": 2,
   "metadata": {},
   "outputs": [],
   "source": [
    "A   = [-1, -1, +1, -1, -1, -1, +1, -1, +1, -1, -1,\n",
    "       +1, +1, +1, -1, +1, -1, -1, -1, +1, +1, -1, -1, -1, +1]\n",
    "A_I = [+1, -1, -1, -1, +1, +1, -1, -1, -1, +1, -1,\n",
    "       +1, +1, +1, -1, -1, +1, -1, +1, -1, -1, -1, +1, -1, -1]\n",
    "\n",
    "As = []\n",
    "A_Is = []\n",
    "\n",
    "As.append(A)\n",
    "A_Is.append(A_I)\n",
    "for i in range(5):\n",
    "    temp = A.copy()\n",
    "    pos = random.randint(0, len(A)-1)\n",
    "    temp[pos] = temp[pos]*-1\n",
    "    As.append(temp)\n",
    "\n",
    "    temp = A_I.copy()\n",
    "    pos = random.randint(0, len(A_Is)-1)\n",
    "    temp[pos] = temp[pos]*-1\n",
    "    A_Is.append(temp)\n",
    "    \n"
   ]
  },
  {
   "cell_type": "markdown",
   "metadata": {},
   "source": [
    "### Plotagem dos valores de A obtidos, e os valores são salvos no arquivo A.data"
   ]
  },
  {
   "cell_type": "code",
   "execution_count": 3,
   "metadata": {},
   "outputs": [
    {
     "data": {
      "image/png": "[encoded data removed]",
      "text/plain": [
       "<Figure size 432x288 with 6 Axes>"
      ]
     },
     "metadata": {},
     "output_type": "display_data"
    }
   ],
   "source": [
    "import matplotlib.pyplot as plt\n",
    "\n",
    "fig = plt.figure()\n",
    "for i in range(6):\n",
    "    ax1 = fig.add_subplot(2,3, i+1)\n",
    "    ax1.imshow(np.array(As[i]).reshape((5,5)))\n",
    "\n",
    "\n",
    "to_save = np.array(As).astype(np.int)\n",
    "np.savetxt('A.data', to_save, fmt='%i')"
   ]
  },
  {
   "cell_type": "markdown",
   "metadata": {},
   "source": [
    "### Plotagem dos valores de A Invertido obtidos, e os valores são salvos no arquivo A_I.data"
   ]
  },
  {
   "cell_type": "code",
   "execution_count": 4,
   "metadata": {
    "scrolled": true
   },
   "outputs": [
    {
     "data": {
      "image/png": "[encoded data removed]",
      "text/plain": [
       "<Figure size 432x288 with 6 Axes>"
      ]
     },
     "metadata": {},
     "output_type": "display_data"
    }
   ],
   "source": [
    "fig = plt.figure()\n",
    "for i in range(6):\n",
    "    ax1 = fig.add_subplot(2,3, i+1)\n",
    "    ax1.imshow(np.array(A_Is[i]).reshape((5,5)))\n",
    "\n",
    "to_save = np.array(A_Is).astype(np.int)\n",
    "np.savetxt('A_I.data', to_save, fmt='%i')"
   ]
  },
  {
   "cell_type": "markdown",
   "metadata": {},
   "source": [
    "### Carregando valores de A_I.data"
   ]
  },
  {
   "cell_type": "code",
   "execution_count": 5,
   "metadata": {},
   "outputs": [
    {
     "data": {
      "image/png": "[encoded data removed]",
      "text/plain": [
       "<Figure size 432x288 with 6 Axes>"
      ]
     },
     "metadata": {},
     "output_type": "display_data"
    }
   ],
   "source": [
    "A_Is = np.loadtxt('A_I.data')\n",
    "import matplotlib.pyplot as plt\n",
    "\n",
    "fig = plt.figure()\n",
    "for i in range(A_Is.shape[0]):\n",
    "    ax1 = fig.add_subplot(2,3, i+1)\n",
    "    ax1.imshow(np.array(A_Is[i]).reshape((5,5)))"
   ]
  },
  {
   "cell_type": "markdown",
   "metadata": {},
   "source": [
    "### Carregando valores de A.data"
   ]
  },
  {
   "cell_type": "code",
   "execution_count": 6,
   "metadata": {},
   "outputs": [
    {
     "data": {
      "image/png": "[encoded data removed]",
      "text/plain": [
       "<Figure size 432x288 with 6 Axes>"
      ]
     },
     "metadata": {},
     "output_type": "display_data"
    }
   ],
   "source": [
    "As = np.loadtxt('A.data')\n",
    "import matplotlib.pyplot as plt\n",
    "\n",
    "fig = plt.figure()\n",
    "for i in range(As.shape[0]):\n",
    "    ax1 = fig.add_subplot(2,3, i+1)\n",
    "    ax1.imshow(np.array(As[i]).reshape((5,5)))"
   ]
  },
  {
   "cell_type": "markdown",
   "metadata": {},
   "source": [
    "## Concatenando valores em um vetor de entrada X, gerando labels Y e treinando perceptron"
   ]
  },
  {
   "cell_type": "code",
   "execution_count": 11,
   "metadata": {},
   "outputs": [],
   "source": [
    "# Concatenando A\n",
    "X = As.copy()\n",
    "Y = np.repeat(-1, As.shape[0])\n",
    "\n",
    "#Concatenando A_I\n",
    "X = np.append(X, A_Is)\n",
    "Y = np.append(Y, np.repeat(1, A_Is.shape[0]))\n",
    "\n",
    "# Transformando X em uma matriz com 12 entradas com uma\n",
    "#    imagem de A (5x5) em cada linha\n",
    "X = X.reshape((12, 25))\n",
    "\n",
    "# Treinando perceptron adaline\n",
    "P = Perceptron()\n",
    "P.train(X, Y)"
   ]
  },
  {
   "cell_type": "markdown",
   "metadata": {},
   "source": [
    "### Testando o modelo calculado"
   ]
  },
  {
   "cell_type": "code",
   "execution_count": 19,
   "metadata": {},
   "outputs": [
    {
     "name": "stdout",
     "output_type": "stream",
     "text": [
      "Os valores abaixo são correspondentes as imagens do A (label -1):\n",
      "-1\n",
      "-1\n",
      "-1\n",
      "-1\n",
      "-1\n",
      "-1\n",
      "\n",
      "\n",
      "Os valores abaixo são correspondentes as imagens do A Invertido (label 1):\n",
      "1\n",
      "1\n",
      "1\n",
      "1\n",
      "1\n",
      "1\n"
     ]
    }
   ],
   "source": [
    "# Testando valores para o A\n",
    "print('Os valores abaixo são correspondentes as imagens do A (label -1):')\n",
    "for i in range(As.shape[0]):\n",
    "    print(P.predict(As[i]))\n",
    "\n",
    "print('\\n')\n",
    "# Testando valores para o A_I\n",
    "print('Os valores abaixo são correspondentes as imagens do A Invertido (label 1):')\n",
    "for i in range(A_Is.shape[0]):\n",
    "    print(P.predict(A_Is[i]))\n"
   ]
  },
  {
   "cell_type": "markdown",
   "metadata": {},
   "source": [
    "## Gerando modelos que não estão na base para teste"
   ]
  },
  {
   "cell_type": "code",
   "execution_count": 34,
   "metadata": {},
   "outputs": [
    {
     "name": "stdout",
     "output_type": "stream",
     "text": [
      "Predizendo imagem de A (label -1) gerado aleatóriamente:\n",
      "-1\n"
     ]
    },
    {
     "data": {
      "image/png": "[encoded data removed]",
      "text/plain": [
       "<Figure size 432x288 with 1 Axes>"
      ]
     },
     "metadata": {},
     "output_type": "display_data"
    }
   ],
   "source": [
    "A   = [-1, -1, +1, -1, -1, -1, +1, -1, +1, -1, -1,\n",
    "       +1, +1, +1, -1, +1, -1, -1, -1, +1, +1, -1, -1, -1, +1]\n",
    "A_I = [+1, -1, -1, -1, +1, +1, -1, -1, -1, +1,\n",
    "       -1, +1, +1, +1, -1, -1, +1, -1, +1, -1, -1, -1, +1, -1, -1]\n",
    "\n",
    "temp = A.copy()\n",
    "pos = random.randint(0, len(A)-1)\n",
    "temp[pos] = temp[pos]*-1\n",
    "print('Predizendo imagem de A (label -1) gerado aleatóriamente:')\n",
    "print(P.predict(temp))\n",
    "img = plt.imshow(np.array(temp).reshape((5,5)))\n",
    "\n",
    "\n"
   ]
  },
  {
   "cell_type": "code",
   "execution_count": 33,
   "metadata": {},
   "outputs": [
    {
     "name": "stdout",
     "output_type": "stream",
     "text": [
      "Predizendo imagem de A_I (label 1) gerado aleatóriamente:\n",
      "1\n"
     ]
    },
    {
     "data": {
      "image/png": "[encoded data removed]",
      "text/plain": [
       "<Figure size 432x288 with 1 Axes>"
      ]
     },
     "metadata": {},
     "output_type": "display_data"
    }
   ],
   "source": [
    "temp = A_I.copy()\n",
    "pos = random.randint(0, len(A_I)-1)\n",
    "temp[pos] = temp[pos]*-1\n",
    "print('Predizendo imagem de A_I (label 1) gerado aleatóriamente:')\n",
    "print(P.predict(temp))\n",
    "img = plt.imshow(np.array(temp).reshape((5,5)))"
   ]
  },
  {
   "cell_type": "markdown",
   "metadata": {},
   "source": [
    "# Resultados\n",
    "\n",
    "É possivel concluir que o problema é linearmente separavel, pois pode ser aprendido por um perceptron do modelo adaline."
   ]
  }
 ],
 "metadata": {
  "kernelspec": {
   "display_name": "Python 3",
   "language": "python",
   "name": "python3"
  },
  "language_info": {
   "codemirror_mode": {
    "name": "ipython",
    "version": 3
   },
   "file_extension": ".py",
   "mimetype": "text/x-python",
   "name": "python",
   "nbconvert_exporter": "python",
   "pygments_lexer": "ipython3",
   "version": "3.7.0"
  }
 },
 "nbformat": 4,
 "nbformat_minor": 2
}

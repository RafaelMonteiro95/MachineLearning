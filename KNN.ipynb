{
 "cells": [
  {
   "cell_type": "code",
   "execution_count": 2,
   "metadata": {},
   "outputs": [],
   "source": [
    "import numpy as np"
   ]
  },
  {
   "cell_type": "markdown",
   "metadata": {},
   "source": [
    "### Algoritmo K Nearest Neighbors"
   ]
  },
  {
   "cell_type": "code",
   "execution_count": 32,
   "metadata": {},
   "outputs": [],
   "source": [
    "def KNN(X, Y, query, k=3, EF=np.linalg.norm):\n",
    "    # Calculo das distancias de X para a query\n",
    "    dist = [EF(xi-query) for xi in X]\n",
    "    # IDs dos K mais próximos\n",
    "    ids = np.argsort(dist)[0:k]\n",
    "    # Classes mais frequente nos k mais próximos\n",
    "    labels = np.bincount(Y[ids])\n",
    "\n",
    "    return (labels.argmax(), labels)"
   ]
  },
  {
   "cell_type": "markdown",
   "metadata": {},
   "source": [
    "Realizando o teste do algoritmo no conjunto de dados iris.data"
   ]
  },
  {
   "cell_type": "code",
   "execution_count": 34,
   "metadata": {},
   "outputs": [],
   "source": [
    "iris_data = np.loadtxt('data/iris.data', delimiter=',', dtype='str')\n",
    "N, M = iris_data.shape\n",
    "\n",
    "# Convertendo os valores do banco de dados para float.\n",
    "X = (iris_data[:, 0:M-1]).astype(np.float)\n",
    "\n",
    "# Transformando os dados categoricos de string, para inteiros.\n",
    "Y = iris_data[:, M-1]\n",
    "\n",
    "# Pegando os valores unicos nos labels\n",
    "unique = np.unique(Y)\n",
    "for i in range(unique.size):\n",
    "    Y[unique[i] == Y] = i # Convertendo para categoricos inteiros\n",
    "# Convertendo para inte\n",
    "Y = Y.astype(np.uint8)\n",
    "\n",
    "label, ids = KNN(X=X, Y=Y, query=X[0])"
   ]
  },
  {
   "cell_type": "code",
   "execution_count": 36,
   "metadata": {},
   "outputs": [
    {
     "name": "stdout",
     "output_type": "stream",
     "text": [
      "0\n",
      "0\n"
     ]
    }
   ],
   "source": [
    "\n",
    "print(label)\n",
    "print(Y[0])"
   ]
  },
  {
   "cell_type": "code",
   "execution_count": null,
   "metadata": {},
   "outputs": [],
   "source": []
  }
 ],
 "metadata": {
  "kernelspec": {
   "display_name": "Python 3",
   "language": "python",
   "name": "python3"
  },
  "language_info": {
   "codemirror_mode": {
    "name": "ipython",
    "version": 3
   },
   "file_extension": ".py",
   "mimetype": "text/x-python",
   "name": "python",
   "nbconvert_exporter": "python",
   "pygments_lexer": "ipython3",
   "version": "3.6.4"
  }
 },
 "nbformat": 4,
 "nbformat_minor": 2
}

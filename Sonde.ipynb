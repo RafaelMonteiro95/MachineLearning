{
 "cells": [
  {
   "cell_type": "markdown",
   "metadata": {},
   "source": [
    "### Self-Organizing Novelty Detector"
   ]
  },
  {
   "cell_type": "code",
   "execution_count": 50,
   "metadata": {},
   "outputs": [],
   "source": [
    "import numpy as np\n",
    "import matplotlib.pyplot as plt\n",
    "\n",
    "X = np.random.uniform(low=-10.0, high=10.0, size=2*100).reshape((100, 2))"
   ]
  },
  {
   "cell_type": "code",
   "execution_count": 64,
   "metadata": {},
   "outputs": [
    {
     "name": "stderr",
     "output_type": "stream",
     "text": [
      "/usr/lib/python3.6/site-packages/ipykernel_launcher.py:46: RuntimeWarning: invalid value encountered in true_divide\n",
      "/usr/lib/python3.6/site-packages/ipykernel_launcher.py:48: RuntimeWarning: invalid value encountered in greater\n"
     ]
    },
    {
     "data": {
      "image/png": "[encoded data removed]",
      "text/plain": [
       "<Figure size 432x288 with 1 Axes>"
      ]
     },
     "metadata": {},
     "output_type": "display_data"
    },
    {
     "name": "stdout",
     "output_type": "stream",
     "text": [
      "(5, 2)\n"
     ]
    }
   ],
   "source": [
    "def SONDE(X, sigma, alpha=0.1, beta=0.05, threshold=1e-3, eps=1e-7):\n",
    "    Xn, Xm = X.shape\n",
    "    state_prev = -1\n",
    "    state = -1\n",
    "    H = None\n",
    "    M = None\n",
    "    centroids = np.empty((0, Xm))\n",
    "    \n",
    "    # Para cada elemento (linha)\n",
    "    for xi in X :\n",
    "        # Verifico se existem centroids\n",
    "        if (centroids.size == 0) :\n",
    "            # Se não existir, primeiro xi é adicionado nos centroids\n",
    "            centroids = np.append(centroids, xi.reshape((1,Xm)), axis=0)\n",
    "            # Cria matriz m de tamanho 1x1 com zeros\n",
    "            M = np.zeros((centroids.size -1, centroids.size -1))\n",
    "            # state = id do novo centroid\n",
    "            state = centroids.shape[0] - 1\n",
    "\n",
    "        # Se já existirem centroids\n",
    "        else:\n",
    "\n",
    "            # Calcula a distância euclidiana de cada centroid existente para xi\n",
    "            D = np.apply_along_axis(lambda cluster, xi: np.sqrt(np.sum(np.power(cluster-xi, 2))), 1, centroids, xi)\n",
    "            \n",
    "            # Aplica a função de ativação gaussiana nas distâncias dos centroids\n",
    "            act = np.array([ np.sum(np.exp(-np.power(D, 2)/(2*np.power(sigma, 2))))])\n",
    "            idx = np.argsort(act)[0] # Pega a maior ativação do centroid\n",
    "            # Verifica se a ativação do é maior que o threshold\n",
    "            if (act[idx] > threshold):\n",
    "                # Se ativação é maior, state = id do centroid\n",
    "                state = idx\n",
    "                # centroid é deslocado em alpha * direção do x_i\n",
    "                centroids[idx, :] = (1-alpha)*centroids[idx, :] + alpha*xi\n",
    "            else:\n",
    "                # Se ativação é menor que threshold, novo centroid é criado\n",
    "                centroids = np.append(centroids, xi.reshape((1,Xm)), axis=0)\n",
    "                # Mais uma linha e coluna é adicionado a M com valores zeros.\n",
    "                M = np.pad(M, [(0,1), (0,1)], 'constant', constant_values=(0))\n",
    "                # state = id do centroid adicionado\n",
    "                state = centroids.shape[0] - 1\n",
    "\n",
    "        if state_prev != -1:\n",
    "            \n",
    "            M[state_prev, state] = M[state_prev, state] + beta\n",
    "            M = np.apply_along_axis(lambda row, EPS : row/np.sum(row) + EPS, 1, M, eps)\n",
    "        \n",
    "        idx = M > 0\n",
    "\n",
    "        H = np.append(H, -np.sum(M[idx] * np.log2(M[idx]) ))\n",
    "        \n",
    "        state_prev = state\n",
    "    \n",
    "\n",
    "    return (centroids, H)\n",
    "C, H = SONDE(X, sigma=3)\n",
    "\n",
    "plt.plot(H)\n",
    "plt.show()\n",
    "print(C.shape)"
   ]
  },
  {
   "cell_type": "code",
   "execution_count": 61,
   "metadata": {},
   "outputs": [
    {
     "data": {
      "image/png": "[encoded data removed]",
      "text/plain": [
       "<Figure size 432x288 with 1 Axes>"
      ]
     },
     "metadata": {},
     "output_type": "display_data"
    },
    {
     "data": {
      "text/plain": [
       "(7, 2)"
      ]
     },
     "execution_count": 61,
     "metadata": {},
     "output_type": "execute_result"
    }
   ],
   "source": [
    "plt.plot(X,  '.', color='b')\n",
    "plt.plot(C,  '.', color='r')\n",
    "\n",
    "plt.show()\n",
    "C.shape"
   ]
  }
 ],
 "metadata": {
  "kernelspec": {
   "display_name": "Python 3",
   "language": "python",
   "name": "python3"
  },
  "language_info": {
   "codemirror_mode": {
    "name": "ipython",
    "version": 3
   },
   "file_extension": ".py",
   "mimetype": "text/x-python",
   "name": "python",
   "nbconvert_exporter": "python",
   "pygments_lexer": "ipython3",
   "version": "3.6.5"
  }
 },
 "nbformat": 4,
 "nbformat_minor": 2
}

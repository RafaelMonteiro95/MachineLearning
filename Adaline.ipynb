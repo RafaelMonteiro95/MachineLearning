{
 "cells": [
  {
   "cell_type": "markdown",
   "metadata": {},
   "source": [
    "# Marcos Cesar Ribeiro de Camargo - 9278045\n",
    "## 22/08/2018 - Exercício 1"
   ]
  },
  {
   "cell_type": "markdown",
   "metadata": {},
   "source": [
    "## Bibliotecas utilizadas"
   ]
  },
  {
   "cell_type": "code",
   "execution_count": 1,
   "metadata": {},
   "outputs": [],
   "source": [
    "import numpy as np\n",
    "import matplotlib.pyplot as plt"
   ]
  },
  {
   "cell_type": "markdown",
   "metadata": {},
   "source": [
    "## Implementação do modelo de Perceptron Adaline"
   ]
  },
  {
   "cell_type": "code",
   "execution_count": 45,
   "metadata": {},
   "outputs": [],
   "source": [
    "class Perceptron(object):\n",
    "    weights = None\n",
    "    \n",
    "    def f(self, net, threshold=0.5):\n",
    "        if(net >= threshold):\n",
    "            return 1\n",
    "        else:\n",
    "            return -1\n",
    "\n",
    "    def predict(self, x):\n",
    "        X = np.concatenate((x, [1]))\n",
    "        net = np.sum(np.multiply(X, self.weights))\n",
    "        return(self.f(net))\n",
    "    \n",
    "    def train(self, X, Y, eta=0.05, threshold=10e-3, max_iter=2000):\n",
    "        n, w = X.shape\n",
    "        # Gerando pesos w e theta aleatóriamente \n",
    "        weights = (np.random.rand(w+1) - 0.5)\n",
    "        \n",
    "        t_error = 2*threshold\n",
    "        counter = 0\n",
    "        while(t_error > threshold and counter <= max_iter):\n",
    "            t_error = 0\n",
    "            # Para toda linha do conjuto de treinamento\n",
    "            for i in range(n):\n",
    "\n",
    "                # Concatenando X[i] com 1 para o theta\n",
    "                Xi = np.concatenate((X[i], [1]))\n",
    "\n",
    "                # Calculando net\n",
    "                net = np.sum(np.multiply(Xi, weights))\n",
    "                y_hat = self.f(net)\n",
    "\n",
    "                # Calculando erro\n",
    "                error = Y[i] - y_hat\n",
    "                t_error = t_error + np.power(error, 2)\n",
    "\n",
    "                # Treinando\n",
    "                # Calculando o gradiente\n",
    "                dE2_dweights = -2*error*Xi\n",
    "                weights = weights - eta*dE2_dweights\n",
    "            t_error = t_error/n\n",
    "            counter = counter + 1\n",
    "        self.weights = weights"
   ]
  },
  {
   "cell_type": "code",
   "execution_count": 83,
   "metadata": {},
   "outputs": [],
   "source": [
    "import random\n",
    "\n",
    "A   = [-1, -1, +1, -1, -1, -1, +1, -1, +1, -1, -1, +1, +1, +1, -1, +1, -1, -1, -1, +1, +1, -1, -1, -1, +1]\n",
    "A_I = [+1, -1, -1, -1, +1, +1, -1, -1, -1, +1, -1, +1, +1, +1, -1, -1, +1, -1, +1, -1, -1, -1, +1, -1, -1]\n",
    "\n",
    "As = []\n",
    "A_Is = []\n",
    "\n",
    "As.append(A)\n",
    "A_Is.append(A_I)\n",
    "for i in range(5):\n",
    "    temp = A.copy()\n",
    "    pos = random.randint(0, len(A)-1)\n",
    "    temp[pos] = temp[pos]*-1\n",
    "    As.append(temp)\n",
    "\n",
    "    temp = A_I.copy()\n",
    "    pos = random.randint(0, len(A_Is)-1)\n",
    "    temp[pos] = temp[pos]*-1\n",
    "    A_Is.append(temp)\n",
    "    \n"
   ]
  },
  {
   "cell_type": "code",
   "execution_count": 86,
   "metadata": {},
   "outputs": [
    {
     "data": {
      "image/png": "[encoded data removed]",
      "text/plain": [
       "<Figure size 432x288 with 6 Axes>"
      ]
     },
     "metadata": {},
     "output_type": "display_data"
    }
   ],
   "source": [
    "import matplotlib.pyplot as plt\n",
    "\n",
    "fig = plt.figure()\n",
    "for i in range(6):\n",
    "    ax1 = fig.add_subplot(2,3, i+1)\n",
    "    ax1.imshow(np.array(As[i]).reshape((5,5)))\n",
    "\n",
    "\n",
    "to_save = np.array(As).astype(np.int)\n",
    "np.savetxt('A.data', to_save, fmt='%i')"
   ]
  },
  {
   "cell_type": "code",
   "execution_count": 87,
   "metadata": {
    "scrolled": true
   },
   "outputs": [
    {
     "data": {
      "image/png": "[encoded data removed]",
      "text/plain": [
       "<Figure size 432x288 with 6 Axes>"
      ]
     },
     "metadata": {},
     "output_type": "display_data"
    }
   ],
   "source": [
    "fig = plt.figure()\n",
    "for i in range(6):\n",
    "    ax1 = fig.add_subplot(2,3, i+1)\n",
    "    ax1.imshow(np.array(A_Is[i]).reshape((5,5)))\n",
    "\n",
    "to_save = np.array(A_Is).astype(np.int)\n",
    "np.savetxt('A_I.data', to_save, fmt='%i')"
   ]
  },
  {
   "cell_type": "code",
   "execution_count": 16,
   "metadata": {},
   "outputs": [
    {
     "data": {
      "image/png": "[encoded data removed]",
      "text/plain": [
       "<Figure size 432x288 with 6 Axes>"
      ]
     },
     "metadata": {},
     "output_type": "display_data"
    }
   ],
   "source": [
    "A_Is = np.loadtxt('A_I.data')\n",
    "import matplotlib.pyplot as plt\n",
    "\n",
    "fig = plt.figure()\n",
    "for i in range(A_Is.shape[0]):\n",
    "    ax1 = fig.add_subplot(2,3, i+1)\n",
    "    ax1.imshow(np.array(A_Is[i]).reshape((5,5)))"
   ]
  },
  {
   "cell_type": "code",
   "execution_count": 17,
   "metadata": {},
   "outputs": [
    {
     "data": {
      "image/png": "[encoded data removed]",
      "text/plain": [
       "<Figure size 432x288 with 6 Axes>"
      ]
     },
     "metadata": {},
     "output_type": "display_data"
    }
   ],
   "source": [
    "As = np.loadtxt('A.data')\n",
    "import matplotlib.pyplot as plt\n",
    "\n",
    "fig = plt.figure()\n",
    "for i in range(As.shape[0]):\n",
    "    ax1 = fig.add_subplot(2,3, i+1)\n",
    "    ax1.imshow(np.array(As[i]).reshape((5,5)))"
   ]
  },
  {
   "cell_type": "code",
   "execution_count": 46,
   "metadata": {},
   "outputs": [
    {
     "name": "stdout",
     "output_type": "stream",
     "text": [
      "-1\n",
      "1\n"
     ]
    },
    {
     "data": {
      "image/png": "[encoded data removed]",
      "text/plain": [
       "<Figure size 432x288 with 1 Axes>"
      ]
     },
     "metadata": {},
     "output_type": "display_data"
    }
   ],
   "source": [
    "X = As.copy()\n",
    "X = np.append(X, A_Is)\n",
    "\n",
    "Y = np.array([-1, -1, -1, -1, -1, -1, +1, +1, +1, +1, +1, +1])\n",
    "X = X.reshape((12, 25))\n",
    "plt.imshow(X[0].reshape((5,5)))\n",
    "P = Perceptron()\n",
    "P.train(X, Y)\n",
    "\n",
    "print(P.predict(As[0]))\n",
    "print(P.predict(A_Is[0]))\n"
   ]
  }
 ],
 "metadata": {
  "kernelspec": {
   "display_name": "Python 3",
   "language": "python",
   "name": "python3"
  },
  "language_info": {
   "codemirror_mode": {
    "name": "ipython",
    "version": 3
   },
   "file_extension": ".py",
   "mimetype": "text/x-python",
   "name": "python",
   "nbconvert_exporter": "python",
   "pygments_lexer": "ipython3",
   "version": "3.7.0"
  }
 },
 "nbformat": 4,
 "nbformat_minor": 2
}

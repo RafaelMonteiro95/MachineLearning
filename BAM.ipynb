{
 "cells": [
  {
   "cell_type": "markdown",
   "metadata": {},
   "source": [
    "## Bidirectional Associative Memory\n"
   ]
  },
  {
   "cell_type": "code",
   "execution_count": 108,
   "metadata": {},
   "outputs": [],
   "source": [
    "import numpy as np\n",
    "\n",
    "# Gerando exemplos aleatórios\n",
    "# Numero de exemplos\n",
    "n = 2\n",
    "# Tamanho de exemplos de entrada\n",
    "h = 10\n",
    "# Tamanho de exemplos de saída\n",
    "l = 7\n",
    "\n",
    "X = np.random.randint(2, size=n*h).reshape((n, h))\n",
    "X[X == 0] = -1\n",
    "\n",
    "Y = np.random.randint(2, size=n*l).reshape((n, l))\n",
    "Y[Y == 0] = -1\n"
   ]
  },
  {
   "cell_type": "code",
   "execution_count": 110,
   "metadata": {},
   "outputs": [
    {
     "name": "stdout",
     "output_type": "stream",
     "text": [
      "\n",
      "0\n",
      "x:\n",
      "[-1 -1  1  1  1 -1  1  1  1 -1]\n",
      "y:\n",
      "[-1  1  1 -1 -1  1  1]\n",
      "x:\n",
      "[-1 -1  1  1  1 -1  1  1  1 -1]\n",
      "y:\n",
      "[-1  1  1 -1 -1  1  1]\n",
      "\n",
      "1\n",
      "x:\n",
      "[ 1 -1  1 -1 -1  1  1  1  1 -1]\n",
      "y:\n",
      "[ 1  1 -1 -1 -1 -1  1]\n",
      "x:\n",
      "[ 1 -1  1 -1 -1  1  1  1  1 -1]\n",
      "y:\n",
      "[ 1  1 -1 -1 -1 -1  1]\n",
      "0.0\n"
     ]
    }
   ],
   "source": [
    "# Função aplicada sobre a saida da BAM\n",
    "def f_net(net):\n",
    "    net[net > 0] = +1\n",
    "    net[net < 0] = -1\n",
    "    net[net == 0] = -1 if (np.random.rand() < 0.5) else 1\n",
    "    return net\n",
    "\n",
    "# Calculo da matriz de correlação\n",
    "def bam(X, Y):\n",
    "    M = np.dot(X.T, Y)\n",
    "    return M\n",
    "\n",
    "\n",
    "# Avaliando o modelo\n",
    "def bam_evaluate(x, M):\n",
    "    y = f_net(np.dot(x, M))\n",
    "\n",
    "    H = -np.dot(np.dot(x, M), y)\n",
    "    H_old = 2*H\n",
    "    entropies = np.array(H)\n",
    "    print('x:')\n",
    "    print(x)\n",
    "    print('y:')\n",
    "    print(y)\n",
    "\n",
    "    while(H > H_old):\n",
    "        y = f_net(np.dot(x, M))\n",
    "        x = f_net(np.dot(M, y))\n",
    "        H_old = H\n",
    "        H = -np.dot(np.dot(x, M), y)\n",
    "        entropies = np.append(entropies, H)\n",
    "        print('x:')\n",
    "        print(x)\n",
    "        print('y:')\n",
    "        print(y)\n",
    "\n",
    "    return {'x':x, 'y':y, 'entropies':entropies}\n",
    "\n",
    "M = bam(X=X, Y=Y)\n",
    "\n",
    "error = 0\n",
    "for i in range(X.shape[0]):\n",
    "    print()\n",
    "    print(i)\n",
    "    R = bam_evaluate(X[i, :], M)\n",
    "    \n",
    "    error = error + np.sqrt( np.sum( np.abs(R['y'] - Y[i]) ) )\n",
    "    \n",
    "print(error)"
   ]
  }
 ],
 "metadata": {
  "kernelspec": {
   "display_name": "Python 3",
   "language": "python",
   "name": "python3"
  },
  "language_info": {
   "codemirror_mode": {
    "name": "ipython",
    "version": 3
   },
   "file_extension": ".py",
   "mimetype": "text/x-python",
   "name": "python",
   "nbconvert_exporter": "python",
   "pygments_lexer": "ipython3",
   "version": "3.6.4"
  }
 },
 "nbformat": 4,
 "nbformat_minor": 2
}

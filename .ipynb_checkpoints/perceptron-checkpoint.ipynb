{
 "cells": [
  {
   "cell_type": "code",
   "execution_count": 5,
   "metadata": {},
   "outputs": [],
   "source": [
    "import numpy as np"
   ]
  },
  {
   "cell_type": "code",
   "execution_count": 33,
   "metadata": {},
   "outputs": [],
   "source": [
    "class Perceptron(object):\n",
    "    weights = None\n",
    "    \n",
    "    def f(self, net, threshold=0.5):\n",
    "        if(net >= threshold):\n",
    "            return 1\n",
    "        else:\n",
    "            return 0\n",
    "\n",
    "    def predict(self, x):\n",
    "        X = np.concatenate((x, [1]))\n",
    "        net = np.sum(np.multiply(X, self.weights))\n",
    "        return(self.f(net))\n",
    "    \n",
    "    def train(self, X, Y, eta=0.1, threshold=10e-3, max_iter=200):\n",
    "        n, w = X.shape\n",
    "        # Gerando pesos w e theta aleatóriamente \n",
    "        weights = (np.random.rand(w+1) - 0.5)\n",
    "        \n",
    "        t_error = 2*threshold\n",
    "        counter = 0\n",
    "        while(t_error > threshold and counter <= max_iter):\n",
    "            t_error = 0\n",
    "            # Para toda linha do conjuto de treinamento\n",
    "            for i in range(n):\n",
    "\n",
    "                # Concatenando X[i] com 1 para o theta\n",
    "                Xi = np.concatenate((X[i], [1]))\n",
    "\n",
    "                # Calculando net\n",
    "                net = np.sum(np.multiply(Xi, weights))\n",
    "                y_hat = self.f(net)\n",
    "\n",
    "                # Calculando erro\n",
    "                error = Y[i] - y_hat\n",
    "                t_error = t_error + np.power(error, 2)\n",
    "\n",
    "                # Treinando\n",
    "                # Calculando o gradiente\n",
    "                dE2_dweights = -2*error*Xi\n",
    "                weights = weights - eta*dE2_dweights\n",
    "            t_error = t_error/n\n",
    "            counter = counter + 1\n",
    "        \n",
    "        self.weights = weights\n",
    "        "
   ]
  },
  {
   "cell_type": "code",
   "execution_count": 36,
   "metadata": {},
   "outputs": [
    {
     "name": "stdout",
     "output_type": "stream",
     "text": [
      "0\n",
      "0\n",
      "0\n",
      "1\n"
     ]
    }
   ],
   "source": [
    "and_dataset = np.array([0, 0, 0, 1, 0, 0, 0, 1, 0, 1, 1, 1]).reshape((4,3))\n",
    "\n",
    "P = Perceptron()\n",
    "X = and_dataset[:,0:2]\n",
    "Y = and_dataset[:,2]\n",
    "P.train(X, Y)\n",
    "\n",
    "print(P.predict((0,0)))\n",
    "print(P.predict((0,1)))\n",
    "print(P.predict((1,0)))\n",
    "print(P.predict((1,1)))\n"
   ]
  }
 ],
 "metadata": {
  "kernelspec": {
   "display_name": "Python 3",
   "language": "python",
   "name": "python3"
  },
  "language_info": {
   "codemirror_mode": {
    "name": "ipython",
    "version": 3
   },
   "file_extension": ".py",
   "mimetype": "text/x-python",
   "name": "python",
   "nbconvert_exporter": "python",
   "pygments_lexer": "ipython3",
   "version": "3.6.4"
  }
 },
 "nbformat": 4,
 "nbformat_minor": 2
}
